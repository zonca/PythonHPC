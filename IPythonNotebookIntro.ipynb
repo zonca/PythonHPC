{
 "metadata": {
  "name": "IPythonNotebookIntro"
 },
 "nbformat": 3,
 "nbformat_minor": 0,
 "worksheets": [
  {
   "cells": [
    {
     "cell_type": "heading",
     "level": 1,
     "metadata": {},
     "source": [
      "IPython notebook Intro"
     ]
    },
    {
     "cell_type": "markdown",
     "metadata": {},
     "source": [
      "http://github.com/zonca/healpytut/"
     ]
    },
    {
     "cell_type": "markdown",
     "metadata": {},
     "source": [
      "Components\n",
      "\n",
      "* Ipython: Interactive shell\n",
      "* Numpy: Array math\n",
      "* Matplotlib: Plotting\n",
      "* Scipy: Advanced scientific tools [FFT, spline, signal processing]\n",
      "* Healpy: Healpix for python"
     ]
    },
    {
     "cell_type": "markdown",
     "metadata": {},
     "source": [
      "Write latex equations, between two $:\n",
      "    \n",
      "$\\dfrac{\\Omega}{\\alpha}$"
     ]
    },
    {
     "cell_type": "code",
     "collapsed": false,
     "input": [
      "#!Arrays\n",
      "#!------\n",
      "\n",
      "import numpy as np\n",
      "a = np.array([1, 4, 5])\n",
      "print(a.dtype)\n",
      "a[0] = .9\n",
      "print(a)\n",
      "\n",
      "#!**Warning** type is integer"
     ],
     "language": "python",
     "metadata": {},
     "outputs": []
    },
    {
     "cell_type": "code",
     "collapsed": false,
     "input": [
      "a = np.array([1, 4, 5], dtype=np.double)\n",
      "a[0] = .9\n",
      "print(a)"
     ],
     "language": "python",
     "metadata": {},
     "outputs": []
    },
    {
     "cell_type": "code",
     "collapsed": false,
     "input": [
      "#same slicing as lists\n",
      "a = np.arange(20)\n",
      "print(a[10:18:2]) #2 is the step"
     ],
     "language": "python",
     "metadata": {},
     "outputs": []
    },
    {
     "cell_type": "code",
     "collapsed": false,
     "input": [
      "#2D same as IDL, shape is always a **tuple**\n",
      "a = np.zeros((3, 4)) \n",
      "a[1, 3] = 2\n",
      "print(a)"
     ],
     "language": "python",
     "metadata": {},
     "outputs": []
    },
    {
     "cell_type": "code",
     "collapsed": false,
     "input": [
      "#array itself is an object, so it has methods associated\n",
      "print \"mean: \" , a.mean()\n",
      "print \"std: \", a.std()\n",
      "print \"1d: \", a.flatten()"
     ],
     "language": "python",
     "metadata": {},
     "outputs": []
    },
    {
     "cell_type": "code",
     "collapsed": false,
     "input": [
      "#!Plotting\n",
      "#!--------\n",
      "\n",
      "#!Interactively with ipython -pylab\n",
      "#!~~~~~~~~~~~~~~~~~~~~~~~~~~~~~~~~~\n",
      "\n",
      "from pylab import *\n",
      "plot(arange(10), arange(10)**2, label='rst')\n",
      "errorbar(arange(10), arange(10)**3, 50., None, 'r.', markersize=10, label='Second')\n",
      "annotate('I like this', xy=(5, 125), xytext=(3.5, 350),\n",
      "            arrowprops=dict(facecolor='black', shrink=0.05),\n",
      "            )\n",
      "text(0.5, 200,'some text')\n",
      "grid()\n",
      "legend(loc=0)\n",
      "xlabel('X axis'); ylabel('Y axis')\n",
      "xlim([0, 8])\n",
      "tit=title('Test plot')"
     ],
     "language": "python",
     "metadata": {},
     "outputs": []
    },
    {
     "cell_type": "code",
     "collapsed": false,
     "input": [
      "# switch to zoomable plot\n",
      "%pylab qt4"
     ],
     "language": "python",
     "metadata": {},
     "outputs": []
    },
    {
     "cell_type": "code",
     "collapsed": false,
     "input": [
      "# switch back to inline plot\n",
      "%pylab inline"
     ],
     "language": "python",
     "metadata": {},
     "outputs": []
    }
   ],
   "metadata": {}
  }
 ]
}